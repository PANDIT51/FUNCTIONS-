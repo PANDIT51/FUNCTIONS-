{
  "nbformat": 4,
  "nbformat_minor": 0,
  "metadata": {
    "colab": {
      "provenance": []
    },
    "kernelspec": {
      "name": "python3",
      "display_name": "Python 3"
    },
    "language_info": {
      "name": "python"
    }
  },
  "cells": [
    {
      "cell_type": "markdown",
      "source": [
        "## **THEORY QUESTIONS **\n",
        "\n",
        "1. What is the difference between a function and a method in Python?\n",
        "  > Function: A block of code defined independently and can be called directly. Example:\n",
        "\n"
      ],
      "metadata": {
        "id": "zUqTQr3zazpI"
      }
    },
    {
      "cell_type": "code",
      "source": [
        "def square(num):\n",
        "    return num * num\n",
        "\n",
        "print(square(4))\n"
      ],
      "metadata": {
        "colab": {
          "base_uri": "https://localhost:8080/"
        },
        "id": "g49OSh-BbS6o",
        "outputId": "38eb59fd-1633-412f-b30c-474a5b6e0f3d"
      },
      "execution_count": 1,
      "outputs": [
        {
          "output_type": "stream",
          "name": "stdout",
          "text": [
            "16\n"
          ]
        }
      ]
    },
    {
      "cell_type": "markdown",
      "source": [
        "   > Method: A function associated with an object, typically called using the object. Example:\n",
        "\n"
      ],
      "metadata": {
        "id": "Kxeyl3qSbh_7"
      }
    },
    {
      "cell_type": "code",
      "source": [
        "class Calculator:\n",
        "    def square(self, num):\n",
        "        return num * num\n",
        "\n",
        "calc = Calculator()\n",
        "print(calc.square(4))\n"
      ],
      "metadata": {
        "colab": {
          "base_uri": "https://localhost:8080/"
        },
        "id": "z7GxB25abstc",
        "outputId": "b5aa9b38-de03-4d3b-a7be-9acd0395de19"
      },
      "execution_count": 2,
      "outputs": [
        {
          "output_type": "stream",
          "name": "stdout",
          "text": [
            "16\n"
          ]
        }
      ]
    },
    {
      "cell_type": "markdown",
      "source": [
        "2. Explain the concept of function arguments and parameters in Python.\n",
        "  > Parameters: Variables defined in the function definition that act as placeholders.\n",
        "  \n",
        "  > Arguments: Actual values passed to the function when it is called. Example:\n"
      ],
      "metadata": {
        "id": "XmEsIrSdb2Ee"
      }
    },
    {
      "cell_type": "code",
      "source": [
        "def add(a, b):  # Parameters: a, b\n",
        "    return a + b\n",
        "\n",
        "print(add(5, 3))  # Arguments: 5, 3\n"
      ],
      "metadata": {
        "colab": {
          "base_uri": "https://localhost:8080/"
        },
        "id": "hscgBw5kcfS5",
        "outputId": "d476fab7-d870-49b4-fbb5-f6aad51cf096"
      },
      "execution_count": 4,
      "outputs": [
        {
          "output_type": "stream",
          "name": "stdout",
          "text": [
            "8\n"
          ]
        }
      ]
    },
    {
      "cell_type": "markdown",
      "source": [
        "3. What are the different ways to define and call a function in Python?\n",
        "  > Defining a Function: Use the def keyword.\n",
        "\n"
      ],
      "metadata": {
        "id": "5OGooPe8cw4i"
      }
    },
    {
      "cell_type": "code",
      "source": [
        "def greet():\n",
        "    return \"Hello!\"\n"
      ],
      "metadata": {
        "id": "qOEnIcPjc7aA"
      },
      "execution_count": 6,
      "outputs": []
    },
    {
      "cell_type": "markdown",
      "source": [
        "Calling a Function: Use the function name followed by parentheses.\n"
      ],
      "metadata": {
        "id": "oAd-19RCdBmn"
      }
    },
    {
      "cell_type": "code",
      "source": [
        "print(greet())  # Output: Hello!\n"
      ],
      "metadata": {
        "colab": {
          "base_uri": "https://localhost:8080/"
        },
        "id": "BxHl-ZOMdK5u",
        "outputId": "08401753-4ae1-4d6c-897d-d6f6a8896f1c"
      },
      "execution_count": 7,
      "outputs": [
        {
          "output_type": "stream",
          "name": "stdout",
          "text": [
            "Hello!\n"
          ]
        }
      ]
    },
    {
      "cell_type": "markdown",
      "source": [
        "4. What is the purpose of the return statement in a Python function?\n",
        "   > The return statement sends a value from the function back to the caller. Example:\n",
        "\n"
      ],
      "metadata": {
        "id": "RaFT__DqdQAY"
      }
    },
    {
      "cell_type": "code",
      "source": [
        "def multiply(a, b):\n",
        "    return a * b\n",
        "\n",
        "result = multiply(4, 5)\n",
        "print(result)  # Output: 20\n"
      ],
      "metadata": {
        "colab": {
          "base_uri": "https://localhost:8080/"
        },
        "id": "RK-q9DHTdYks",
        "outputId": "9dda4f87-d34b-460e-bd81-7948452683bb"
      },
      "execution_count": 8,
      "outputs": [
        {
          "output_type": "stream",
          "name": "stdout",
          "text": [
            "20\n"
          ]
        }
      ]
    },
    {
      "cell_type": "markdown",
      "source": [
        "5. What are iterators in Python and how do they differ from iterables?\n",
        "  > Iterator: An object that uses the __next__() method to fetch items one at a time.\n",
        "  \n",
        "  > Iterable: An object that can be converted into an iterator using the iter() function. Example:\n",
        ""
      ],
      "metadata": {
        "id": "TmneqK_SddRT"
      }
    },
    {
      "cell_type": "code",
      "source": [
        "nums = [1, 2, 3]  # Iterable\n",
        "iterator = iter(nums)  # Convert to iterator\n",
        "print(next(iterator))  # Output: 1\n"
      ],
      "metadata": {
        "colab": {
          "base_uri": "https://localhost:8080/"
        },
        "id": "MABkAsqLdpnp",
        "outputId": "c11ba90f-27b5-4475-863d-83afc480986d"
      },
      "execution_count": 9,
      "outputs": [
        {
          "output_type": "stream",
          "name": "stdout",
          "text": [
            "1\n"
          ]
        }
      ]
    },
    {
      "cell_type": "markdown",
      "source": [
        "6. Explain the concept of generators in Python and how they are defined.\n",
        "  > Generators: Functions that yield values one at a time using the yield keyword, rather than returning all values at once. Example:\n"
      ],
      "metadata": {
        "id": "AZE2fnNGd0Yo"
      }
    },
    {
      "cell_type": "code",
      "source": [
        "def generate_numbers():\n",
        "    for i in range(5):\n",
        "        yield i\n",
        "\n",
        "for num in generate_numbers():\n",
        "    print(num)\n"
      ],
      "metadata": {
        "colab": {
          "base_uri": "https://localhost:8080/"
        },
        "id": "Vk62KFh7d3VH",
        "outputId": "3e6ecbe1-abce-406b-d79a-1712aa367057"
      },
      "execution_count": 10,
      "outputs": [
        {
          "output_type": "stream",
          "name": "stdout",
          "text": [
            "0\n",
            "1\n",
            "2\n",
            "3\n",
            "4\n"
          ]
        }
      ]
    },
    {
      "cell_type": "markdown",
      "source": [
        "7. What are the advantages of using generators over regular functions?\n",
        "  >Memory-efficient (lazy evaluation).\n",
        "  \n",
        "  >Can handle infinite sequences.\n",
        "  \n",
        "  >Simpler to write compared to manual iterator implementation.\n"
      ],
      "metadata": {
        "id": "7cZIaHOJeApu"
      }
    },
    {
      "cell_type": "code",
      "source": [
        "def infinite_sequence():\n",
        "    num = 0\n",
        "    while True:\n",
        "        yield num\n",
        "        num += 1\n"
      ],
      "metadata": {
        "id": "CIJQBUpOeRmU"
      },
      "execution_count": 12,
      "outputs": []
    },
    {
      "cell_type": "markdown",
      "source": [
        "8. What is a lambda function in Python and when is it typically used?\n",
        "  > A lambda function is an anonymous, inline function defined using the lambda keyword.\n",
        "  \n",
        "  > It’s used when a small function is needed temporarily. Example:\n"
      ],
      "metadata": {
        "id": "UZCXEdTHeegr"
      }
    },
    {
      "cell_type": "code",
      "source": [
        "square = lambda x: x * x\n",
        "print(square(3))\n"
      ],
      "metadata": {
        "colab": {
          "base_uri": "https://localhost:8080/"
        },
        "id": "f1KvJ4Auemo1",
        "outputId": "8441f75a-f95c-4e21-d434-4af8233469f0"
      },
      "execution_count": 13,
      "outputs": [
        {
          "output_type": "stream",
          "name": "stdout",
          "text": [
            "9\n"
          ]
        }
      ]
    },
    {
      "cell_type": "markdown",
      "source": [
        "9. Explain the purpose and usage of the map() function in Python.\n",
        "   > The map() function applies a given function to all items in an iterable. Example:\n"
      ],
      "metadata": {
        "id": "PEaauRomewvW"
      }
    },
    {
      "cell_type": "code",
      "source": [
        "nums = [1, 2, 3]\n",
        "squares = map(lambda x: x**2, nums)\n",
        "print(list(squares))\n"
      ],
      "metadata": {
        "colab": {
          "base_uri": "https://localhost:8080/"
        },
        "id": "CFkrwpZFe6I4",
        "outputId": "cb5cb6b1-c90f-431e-eb76-d479ade7eeef"
      },
      "execution_count": 14,
      "outputs": [
        {
          "output_type": "stream",
          "name": "stdout",
          "text": [
            "[1, 4, 9]\n"
          ]
        }
      ]
    },
    {
      "cell_type": "markdown",
      "source": [
        "10. What is the difference between map(), reduce(), and filter() functions in Python?\n",
        "  > map(): Transforms items in an iterable. Example:\n",
        "\n"
      ],
      "metadata": {
        "id": "RYkO_IBUfBV2"
      }
    },
    {
      "cell_type": "code",
      "source": [
        "nums = [1, 2, 3]\n",
        "print(list(map(lambda x: x * 2, nums)))"
      ],
      "metadata": {
        "colab": {
          "base_uri": "https://localhost:8080/"
        },
        "id": "nftsmDGgfPqB",
        "outputId": "e157f701-2011-4166-85b4-6b2bfe123172"
      },
      "execution_count": 15,
      "outputs": [
        {
          "output_type": "stream",
          "name": "stdout",
          "text": [
            "[2, 4, 6]\n"
          ]
        }
      ]
    },
    {
      "cell_type": "markdown",
      "source": [
        "   > filter(): Filters items based on a condition. Example:\n"
      ],
      "metadata": {
        "id": "LhzIQUTufVW-"
      }
    },
    {
      "cell_type": "code",
      "source": [
        "nums = [1, 2, 3, 4]\n",
        "print(list(filter(lambda x: x % 2 == 0, nums)))"
      ],
      "metadata": {
        "colab": {
          "base_uri": "https://localhost:8080/"
        },
        "id": "Qi86T34ZfdYp",
        "outputId": "15329928-d11e-41f1-bf6a-8158b8920b7a"
      },
      "execution_count": 16,
      "outputs": [
        {
          "output_type": "stream",
          "name": "stdout",
          "text": [
            "[2, 4]\n"
          ]
        }
      ]
    },
    {
      "cell_type": "markdown",
      "source": [
        "> reduce(): Aggregates items into a single result. Example:"
      ],
      "metadata": {
        "id": "MmBRePlOfjh8"
      }
    },
    {
      "cell_type": "code",
      "source": [
        "from functools import reduce\n",
        "nums = [1, 2, 3, 4]\n",
        "print(reduce(lambda x, y: x + y, nums))"
      ],
      "metadata": {
        "colab": {
          "base_uri": "https://localhost:8080/"
        },
        "id": "4NslzNpifqLt",
        "outputId": "353d03b8-1000-4960-fcd5-07c25c62c2ee"
      },
      "execution_count": 17,
      "outputs": [
        {
          "output_type": "stream",
          "name": "stdout",
          "text": [
            "10\n"
          ]
        }
      ]
    },
    {
      "cell_type": "markdown",
      "source": [
        "11. Using pen & paper, write the internal mechanism for sum operation using the reduce function on the given list: [47, 11, 42, 13].\n"
      ],
      "metadata": {
        "id": "fb920C5yfzlX"
      }
    },
    {
      "cell_type": "code",
      "source": [
        "from functools import reduce\n",
        "nums = [47, 11, 42, 13]\n",
        "result = reduce(lambda x, y: x + y, nums)\n",
        "print(result)"
      ],
      "metadata": {
        "colab": {
          "base_uri": "https://localhost:8080/"
        },
        "id": "YpmUVRBegEpB",
        "outputId": "87ad3d95-f150-4682-e665-a14cf6da0ae5"
      },
      "execution_count": 18,
      "outputs": [
        {
          "output_type": "stream",
          "name": "stdout",
          "text": [
            "113\n"
          ]
        }
      ]
    },
    {
      "cell_type": "markdown",
      "source": [
        "### **PRACTICAL QUESTIONS **\n",
        "\n",
        "1. Write a Python function that takes a list of numbers as input and returns the sum of all even numbers in the list."
      ],
      "metadata": {
        "id": "w290VQx8gQwq"
      }
    },
    {
      "cell_type": "code",
      "source": [
        "def sum_of_evens(numbers):\n",
        "    return sum(num for num in numbers if num % 2 == 0)\n",
        "\n",
        "# Example\n",
        "nums = [1, 2, 3, 4, 5, 6]\n",
        "print(sum_of_evens(nums))\n"
      ],
      "metadata": {
        "colab": {
          "base_uri": "https://localhost:8080/"
        },
        "id": "r68uoCpQgvi-",
        "outputId": "0b085848-869e-41db-bdf1-871dce0d858d"
      },
      "execution_count": 19,
      "outputs": [
        {
          "output_type": "stream",
          "name": "stdout",
          "text": [
            "12\n"
          ]
        }
      ]
    },
    {
      "cell_type": "markdown",
      "source": [
        "2. Create a Python function that accepts a string and returns the reverse of that string.\n"
      ],
      "metadata": {
        "id": "7hKcRDAAg-EI"
      }
    },
    {
      "cell_type": "code",
      "source": [
        "def reverse_string(s):\n",
        "    return s[::-1]\n",
        "\n",
        "# Example\n",
        "text = \"hello\"\n",
        "print(reverse_string(text))"
      ],
      "metadata": {
        "colab": {
          "base_uri": "https://localhost:8080/"
        },
        "id": "uJfFNiDghCf9",
        "outputId": "74726034-ec0e-4199-b84a-6d6ddeb34ee8"
      },
      "execution_count": 20,
      "outputs": [
        {
          "output_type": "stream",
          "name": "stdout",
          "text": [
            "olleh\n"
          ]
        }
      ]
    },
    {
      "cell_type": "markdown",
      "source": [
        "3. Implement a Python function that takes a list of integers and returns a new list containing the squares of each number.\n"
      ],
      "metadata": {
        "id": "ves29b3ahJtL"
      }
    },
    {
      "cell_type": "code",
      "source": [
        "def square_numbers(numbers):\n",
        "    return [num ** 2 for num in numbers]\n",
        "\n",
        "# Example\n",
        "nums = [1, 2, 3, 4]\n",
        "print(square_numbers(nums))\n"
      ],
      "metadata": {
        "colab": {
          "base_uri": "https://localhost:8080/"
        },
        "id": "IHZSL6R_hOr9",
        "outputId": "46eab4c3-9c3a-4eb3-cd0d-c3bdfbb61ef1"
      },
      "execution_count": 21,
      "outputs": [
        {
          "output_type": "stream",
          "name": "stdout",
          "text": [
            "[1, 4, 9, 16]\n"
          ]
        }
      ]
    },
    {
      "cell_type": "markdown",
      "source": [
        "4. Write a Python function that checks if a given number is prime or not from 1 to 200.\n"
      ],
      "metadata": {
        "id": "bPHRsIiDhU6x"
      }
    },
    {
      "cell_type": "code",
      "source": [
        "def is_prime(n):\n",
        "    if n <= 1:\n",
        "        return False\n",
        "    for i in range(2, int(n**0.5) + 1):\n",
        "        if n % i == 0:\n",
        "            return False\n",
        "    return True\n",
        "\n",
        "# Example\n",
        "print([num for num in range(1, 201) if is_prime(num)])\n"
      ],
      "metadata": {
        "colab": {
          "base_uri": "https://localhost:8080/"
        },
        "id": "7AsJnhZfhaj0",
        "outputId": "7e6760ed-7e6a-45d9-b52d-890326f7ec90"
      },
      "execution_count": 22,
      "outputs": [
        {
          "output_type": "stream",
          "name": "stdout",
          "text": [
            "[2, 3, 5, 7, 11, 13, 17, 19, 23, 29, 31, 37, 41, 43, 47, 53, 59, 61, 67, 71, 73, 79, 83, 89, 97, 101, 103, 107, 109, 113, 127, 131, 137, 139, 149, 151, 157, 163, 167, 173, 179, 181, 191, 193, 197, 199]\n"
          ]
        }
      ]
    },
    {
      "cell_type": "markdown",
      "source": [
        "5. Create an iterator class in Python that generates the Fibonacci sequence up to a specified number of terms.\n"
      ],
      "metadata": {
        "id": "-CiNleRTho0B"
      }
    },
    {
      "cell_type": "code",
      "source": [
        "class FibonacciIterator:\n",
        "    def __init__(self, n):\n",
        "        self.n = n\n",
        "        self.a, self.b = 0, 1\n",
        "        self.count = 0\n",
        "\n",
        "    def __iter__(self):\n",
        "        return self\n",
        "\n",
        "    def __next__(self):\n",
        "        if self.count >= self.n:\n",
        "            raise StopIteration\n",
        "        self.count += 1\n",
        "        value = self.a\n",
        "        self.a, self.b = self.b, self.a + self.b\n",
        "        return value\n",
        "\n",
        "# Example\n",
        "fib = FibonacciIterator(10)\n",
        "print(list(fib))\n"
      ],
      "metadata": {
        "colab": {
          "base_uri": "https://localhost:8080/"
        },
        "id": "lL3zDWfkhuOO",
        "outputId": "b3d77915-fde9-4b94-c0f5-bc28b1eba564"
      },
      "execution_count": 23,
      "outputs": [
        {
          "output_type": "stream",
          "name": "stdout",
          "text": [
            "[0, 1, 1, 2, 3, 5, 8, 13, 21, 34]\n"
          ]
        }
      ]
    },
    {
      "cell_type": "markdown",
      "source": [
        "6. Write a generator function in Python that yields the powers of 2 up to a given exponent."
      ],
      "metadata": {
        "id": "SJneCCsjh5Wa"
      }
    },
    {
      "cell_type": "code",
      "source": [
        "def powers_of_two(exponent):\n",
        "    for i in range(exponent + 1):\n",
        "        yield 2 ** i\n",
        "\n",
        "# Example\n",
        "print(list(powers_of_two(5)))\n"
      ],
      "metadata": {
        "colab": {
          "base_uri": "https://localhost:8080/"
        },
        "id": "njYfLFSPiAzl",
        "outputId": "8a83b5bf-3fc0-4b5b-bdfa-95c91b3b02b7"
      },
      "execution_count": 24,
      "outputs": [
        {
          "output_type": "stream",
          "name": "stdout",
          "text": [
            "[1, 2, 4, 8, 16, 32]\n"
          ]
        }
      ]
    },
    {
      "cell_type": "markdown",
      "source": [
        "7. Implement a generator function that reads a file line by line and yields each line as a string."
      ],
      "metadata": {
        "id": "HpP6H4-niI65"
      }
    },
    {
      "cell_type": "code",
      "source": [
        "def read_file(file_path):\n",
        "    with open(file_path, 'r') as file:\n",
        "        for line in file:\n",
        "            yield line.strip()\n",
        "\n",
        "# Example\n",
        "# for line in read_file(\"example.txt\"):\n",
        "# print(line)\n"
      ],
      "metadata": {
        "id": "k5BGk8eSiOv1"
      },
      "execution_count": null,
      "outputs": []
    },
    {
      "cell_type": "markdown",
      "source": [
        "8. Use a lambda function in Python to sort a list of tuples based on the second element of each tuple.\n"
      ],
      "metadata": {
        "id": "qf_AX_Z5inGu"
      }
    },
    {
      "cell_type": "code",
      "source": [
        "data = [(1, 3), (4, 2), (6, 1)]\n",
        "sorted_data = sorted(data, key=lambda x: x[1])\n",
        "print(sorted_data)"
      ],
      "metadata": {
        "colab": {
          "base_uri": "https://localhost:8080/"
        },
        "id": "th4NrGKpisCT",
        "outputId": "b67d938c-be7a-4410-b160-379075ad7f20"
      },
      "execution_count": 25,
      "outputs": [
        {
          "output_type": "stream",
          "name": "stdout",
          "text": [
            "[(6, 1), (4, 2), (1, 3)]\n"
          ]
        }
      ]
    },
    {
      "cell_type": "markdown",
      "source": [
        "9. Write a Python program that uses map() to convert a list of temperatures from Celsius to Fahrenheit."
      ],
      "metadata": {
        "id": "N3bObPvxiyLm"
      }
    },
    {
      "cell_type": "code",
      "source": [
        "def celsius_to_fahrenheit(celsius):\n",
        "    return list(map(lambda x: (x * 9/5) + 32, celsius))\n",
        "\n",
        "# Example\n",
        "temps = [0, 20, 30, 40]\n",
        "print(celsius_to_fahrenheit(temps))"
      ],
      "metadata": {
        "colab": {
          "base_uri": "https://localhost:8080/"
        },
        "id": "c0jNQMhGi4EI",
        "outputId": "2960daff-154c-45eb-8eea-9fe29710d7d3"
      },
      "execution_count": 26,
      "outputs": [
        {
          "output_type": "stream",
          "name": "stdout",
          "text": [
            "[32.0, 68.0, 86.0, 104.0]\n"
          ]
        }
      ]
    },
    {
      "cell_type": "markdown",
      "source": [
        "10. Create a Python program that uses filter() to remove all the vowels from a given string.\n"
      ],
      "metadata": {
        "id": "mAOkbBBUjAFH"
      }
    },
    {
      "cell_type": "code",
      "source": [
        "def remove_vowels(s):\n",
        "    return ''.join(filter(lambda x: x.lower() not in 'aeiou', s))\n",
        "\n",
        "# Example\n",
        "text = \"hello world\"\n",
        "print(remove_vowels(text))"
      ],
      "metadata": {
        "colab": {
          "base_uri": "https://localhost:8080/"
        },
        "id": "a1qvxMo4jGd_",
        "outputId": "78bda296-9121-4307-d4fd-d75b33158b19"
      },
      "execution_count": 27,
      "outputs": [
        {
          "output_type": "stream",
          "name": "stdout",
          "text": [
            "hll wrld\n"
          ]
        }
      ]
    },
    {
      "cell_type": "markdown",
      "source": [
        "11. Accounting routine: Process the book shop list using lambdas and map.\n",
        "  > Order Number: 34587\n",
        "  >> Book Title and Author: Learning Python, Mark Lutz\n",
        "Quantity: 4\n",
        "Price per Item: 40.95\n",
        "\n",
        "Order Number: 98762\n",
        ">Book Title and Author: Programming Python, Mark Lutz\n",
        "Quantity: 5\n",
        "Price per Item: 56.80\n",
        "\n",
        "Order Number: 77226\n",
        ">Book Title and Author: Head First Python, Paul Barry\n",
        "Quantity: 3\n",
        "Price per Item: 32.95\n",
        "\n",
        "Order Number: 88112\n",
        ">Book Title and Author: Einführung in Python3, Bernd Klein\n",
        "Quantity: 3\n",
        "Price per Item: 24.99"
      ],
      "metadata": {
        "id": "gy4auMVHjOw7"
      }
    },
    {
      "cell_type": "code",
      "source": [
        "orders = [\n",
        "    (34587, \"Learning Python, Mark Lutz\", 4, 40.95),\n",
        "    (98762, \"Programming Python, Mark Lutz\", 5, 56.80),\n",
        "    (77226, \"Head First Python, Paul Barry\", 3, 32.95),\n",
        "    (88112, \"Einführung in Python3, Bernd Klein\", 3, 24.99)\n",
        "]\n",
        "\n",
        "def process_orders(orders):\n",
        "    return list(map(lambda order: (order[0], order[2] * order[3] + (10 if order[2] * order[3] < 100 else 0)), orders))\n",
        "\n",
        "print(process_orders(orders))\n"
      ],
      "metadata": {
        "colab": {
          "base_uri": "https://localhost:8080/"
        },
        "id": "QBfSp4OKj0AA",
        "outputId": "04fb1bf7-885b-4326-a44d-53b0b83cb290"
      },
      "execution_count": 28,
      "outputs": [
        {
          "output_type": "stream",
          "name": "stdout",
          "text": [
            "[(34587, 163.8), (98762, 284.0), (77226, 108.85000000000001), (88112, 84.97)]\n"
          ]
        }
      ]
    }
  ]
}